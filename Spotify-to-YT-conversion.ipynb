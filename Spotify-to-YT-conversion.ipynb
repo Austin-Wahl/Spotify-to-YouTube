{
 "cells": [
  {
   "cell_type": "code",
   "execution_count": null,
   "metadata": {},
   "outputs": [],
   "source": [
    "%pip install spotipy google-api-python-client google-auth-oauthlib google-auth-httplib2 --upgrade"
   ]
  },
  {
   "cell_type": "code",
   "execution_count": null,
   "metadata": {},
   "outputs": [],
   "source": [
    "%pip install pandas"
   ]
  },
  {
   "cell_type": "code",
   "execution_count": null,
   "metadata": {},
   "outputs": [],
   "source": [
    "# import required dependencies\n",
    "import os\n",
    "from IPython.display import display, Markdown\n",
    "\n",
    "import spotipy\n",
    "from spotipy.oauth2 import SpotifyOAuth\n",
    "\n",
    "import google_auth_oauthlib.flow\n",
    "import googleapiclient.discovery\n",
    "import googleapiclient.errors\n",
    "\n",
    "import pandas as pd"
   ]
  },
  {
   "cell_type": "code",
   "execution_count": null,
   "metadata": {},
   "outputs": [],
   "source": [
    "SPOTIFY_CLIENT_ID = \"\"      # Spotify client id goes here\n",
    "SPOTIFY_CLIENT_SECRET = \"\"  # Spotify client secret goes here"
   ]
  },
  {
   "cell_type": "code",
   "execution_count": null,
   "metadata": {},
   "outputs": [],
   "source": [
    "\n",
    "# generate the oauth credentials for the user\n",
    "def establish_google_credentials():\n",
    "    scopes = [\"https://www.googleapis.com/auth/youtube\"]\n",
    "    os.environ[\"OAUTHLIB_INSECURE_TRANSPORT\"] = \"1\"\n",
    "\n",
    "    client_secrets_file = \"creds.json\"\n",
    "    flow = google_auth_oauthlib.flow.InstalledAppFlow.from_client_secrets_file(\n",
    "        client_secrets_file, scopes)\n",
    "    \n",
    "    credentials = flow.run_local_server()\n",
    "    return credentials"
   ]
  },
  {
   "cell_type": "code",
   "execution_count": null,
   "metadata": {},
   "outputs": [],
   "source": [
    "# create a youtube_api object\n",
    "def youtube_api(credentials):\n",
    "    api_service_name = \"youtube\"\n",
    "    api_version = \"v3\"\n",
    "    youtube = googleapiclient.discovery.build(api_service_name, api_version, credentials=credentials)\n",
    "    return youtube"
   ]
  },
  {
   "cell_type": "code",
   "execution_count": null,
   "metadata": {},
   "outputs": [],
   "source": [
    "# save google credentials\n",
    "credentials = establish_google_credentials()"
   ]
  },
  {
   "cell_type": "code",
   "execution_count": null,
   "metadata": {},
   "outputs": [],
   "source": [
    "# create the youtube api object and save to variable\n",
    "yt_api = youtube_api(credentials)"
   ]
  },
  {
   "cell_type": "code",
   "execution_count": null,
   "metadata": {},
   "outputs": [],
   "source": [
    "# get the first 25 playlists a user has\n",
    "def get_youtube_playlists():\n",
    "    request = yt_api.playlists().list(\n",
    "        part=\"snippet,contentDetails\",\n",
    "        maxResults=25, # change this value here if your desired playlist is not in the first batch of 25. Increase to 50 to get the next 25 results. So on and so forth until you find what your looking for\n",
    "        mine=True\n",
    "    )\n",
    "\n",
    "    response = request.execute()\n",
    "    return response"
   ]
  },
  {
   "cell_type": "code",
   "execution_count": null,
   "metadata": {},
   "outputs": [],
   "source": [
    "# get the youtube playlists\n",
    "youtube_playlists = get_youtube_playlists()"
   ]
  },
  {
   "cell_type": "code",
   "execution_count": null,
   "metadata": {},
   "outputs": [],
   "source": [
    "# creates a pandas dataframe to display the youtube playlists\n",
    "def list_yt_playlists():\n",
    "    columns = [\n",
    "        \"Channel\",\n",
    "        \"Title\",\n",
    "        \"Description\",\n",
    "        \"ID\"\n",
    "    ]\n",
    "\n",
    "    data = []\n",
    "\n",
    "    items = youtube_playlists.get(\"items\")\n",
    "    for playlist in items:\n",
    "        id = playlist.get(\"id\")\n",
    "        snippet = playlist.get(\"snippet\")\n",
    "        localized = snippet.get(\"localized\")\n",
    "        title = localized.get(\"title\")\n",
    "        description = localized.get(\"description\")\n",
    "        channel_title = snippet.get(\"channelTitle\")\n",
    "\n",
    "        temp_arr = [channel_title, title, description, id]\n",
    "        data.append(temp_arr) \n",
    "\n",
    "    df = pd.DataFrame(columns=columns, data=data)\n",
    "    return df"
   ]
  },
  {
   "cell_type": "code",
   "execution_count": null,
   "metadata": {},
   "outputs": [],
   "source": [
    "# actually list the playlists\n",
    "user_youtube_playlists = list_yt_playlists()\n",
    "display(user_youtube_playlists)"
   ]
  },
  {
   "cell_type": "code",
   "execution_count": null,
   "metadata": {},
   "outputs": [],
   "source": [
    "# prompt the user to enter the playlist they want to use\n",
    "def choose_yt_playlist():\n",
    "    index = int(input(\"Enter the line number of the playlist. This is the number following the channel column... \"))\n",
    "    display(user_youtube_playlists.iloc[[index]])\n",
    "    return user_youtube_playlists.loc[index, \"ID\"]\n",
    "\n",
    "choosen_youtube_playlist = choose_yt_playlist()"
   ]
  },
  {
   "cell_type": "code",
   "execution_count": null,
   "metadata": {},
   "outputs": [],
   "source": [
    "# create the spotify credentials\n",
    "def establish_spotify_credentials():\n",
    "    scope = \"user-library-read\"\n",
    "    sp = spotipy.Spotify(auth_manager=SpotifyOAuth(scope=scope, client_id=SPOTIFY_CLIENT_ID, client_secret=SPOTIFY_CLIENT_SECRET, redirect_uri=\"http://localhost:3000\"))\n",
    "\n",
    "    return sp"
   ]
  },
  {
   "cell_type": "code",
   "execution_count": null,
   "metadata": {},
   "outputs": [],
   "source": [
    "# save spotify credentials\n",
    "spotify_credentials = establish_spotify_credentials()"
   ]
  },
  {
   "cell_type": "code",
   "execution_count": null,
   "metadata": {},
   "outputs": [],
   "source": [
    "# function to get the spotify playlists\n",
    "def get_spotify_playlists(offset=0):\n",
    "    return spotify_credentials.current_user_playlists(limit=25, offset=offset)"
   ]
  },
  {
   "cell_type": "code",
   "execution_count": null,
   "metadata": {},
   "outputs": [],
   "source": [
    "# creates a pandas dataframe to list the spotify playlists\n",
    "def list_spotify_playlists():\n",
    "    offset = 0 # if you don't see your playlist, increase this number by 25 until you do\n",
    "    playlists = get_spotify_playlists(offset).get(\"items\")\n",
    "\n",
    "    columns = [\n",
    "        \"Owner\",\n",
    "        \"Title\",\n",
    "        \"Description\",\n",
    "        \"ID\"\n",
    "    ]\n",
    "\n",
    "    data = []\n",
    "\n",
    "    for playlist in playlists:\n",
    "        id = playlist.get(\"id\")\n",
    "        name = playlist.get(\"name\")\n",
    "        description = playlist.get(\"description\")\n",
    "        owner = playlist.get(\"owner\")\n",
    "        display_name = owner.get(\"display_name\")\n",
    "\n",
    "        temp_arr = [display_name, name, description, id]\n",
    "        data.append(temp_arr)\n",
    "\n",
    "    df = pd.DataFrame(columns=columns, data=data)\n",
    "    return df"
   ]
  },
  {
   "cell_type": "code",
   "execution_count": null,
   "metadata": {},
   "outputs": [],
   "source": [
    "# do the listing\n",
    "spotify_playlists = list_spotify_playlists()\n",
    "display(spotify_playlists)"
   ]
  },
  {
   "cell_type": "code",
   "execution_count": null,
   "metadata": {},
   "outputs": [],
   "source": [
    "# prompt the user to choose the playlist to use\n",
    "def choose_spotify_playlist():\n",
    "    index = int(input(\"Enter the line number of the playlist. This is the number following the owner column... \"))\n",
    "    display(spotify_playlists.iloc[[index]])\n",
    "    return spotify_playlists.loc[index, \"ID\"]\n",
    "\n",
    "choosen_spotify_playlist = choose_spotify_playlist()"
   ]
  },
  {
   "cell_type": "code",
   "execution_count": null,
   "metadata": {},
   "outputs": [],
   "source": [
    "# retrive songs in the spotify playlist. gets 100 by default\n",
    "def get_songs_from_playlist(limit=100, offset=0):\n",
    "    data = spotify_credentials.playlist_items(playlist_id=choosen_spotify_playlist, limit=limit, offset=offset)\n",
    "    songs = data.get(\"items\")\n",
    "    total = data.get(\"total\")\n",
    "    return [songs, total]"
   ]
  },
  {
   "cell_type": "code",
   "execution_count": null,
   "metadata": {},
   "outputs": [],
   "source": [
    "# loops through to get every song until they have been stored\n",
    "def generate_spotify_songs_list():\n",
    "    has_next = True\n",
    "    offset = 0\n",
    "    limit = 100\n",
    "\n",
    "    data = []\n",
    "\n",
    "    while True:\n",
    "        songs, total = get_songs_from_playlist(limit=limit, offset=offset)\n",
    "        has_next = len(data) + len(songs) < int(total)\n",
    "        data = [*data, *songs]\n",
    "\n",
    "        print(f'Fetched {len(data)} out of {int(total)} songs')\n",
    "\n",
    "        offset = offset + limit\n",
    "\n",
    "        if not has_next:\n",
    "            break\n",
    "\n",
    "    return data"
   ]
  },
  {
   "cell_type": "code",
   "execution_count": null,
   "metadata": {},
   "outputs": [],
   "source": [
    "# save all the songs in the spotify playlist to a variable\n",
    "spotify_playlist_songs = generate_spotify_songs_list()"
   ]
  },
  {
   "cell_type": "code",
   "execution_count": null,
   "metadata": {},
   "outputs": [],
   "source": [
    "# function to search youtube with a keyword phrase. gets the first search result. returns whole resposne\n",
    "def search_youtube(keywords):\n",
    "    request = yt_api.search().list(\n",
    "        part = \"snippet\",\n",
    "        maxResults=1,\n",
    "        q=keywords\n",
    "    )\n",
    "\n",
    "    response = request.execute()\n",
    "    \n",
    "    return response"
   ]
  },
  {
   "cell_type": "code",
   "execution_count": null,
   "metadata": {},
   "outputs": [],
   "source": [
    "# method to add the song to the youtube playlist\n",
    "def add_song_to_playlist(videoId, position):\n",
    "    request = yt_api.playlistItems().insert(\n",
    "        part=\"snippet\",\n",
    "        body={\n",
    "          \"snippet\": {\n",
    "            \"playlistId\": choosen_youtube_playlist,\n",
    "            \"position\": position,\n",
    "            \"resourceId\": {\n",
    "              \"kind\": \"youtube#video\",\n",
    "              \"videoId\": videoId\n",
    "            }\n",
    "          }\n",
    "        }\n",
    "    )\n",
    "\n",
    "    response = request.execute()"
   ]
  },
  {
   "cell_type": "code",
   "execution_count": null,
   "metadata": {},
   "outputs": [],
   "source": [
    "# actually adds the songs to a youtube playlist\n",
    "def add_songs_to_youtube_playlist():\n",
    "    failed_songs = []\n",
    "    searched_songs_count = 0\n",
    "    # loop through each song in the spotify playlist\n",
    "    for song in spotify_playlist_songs:\n",
    "        # get track\n",
    "        track = song.get(\"track\")\n",
    "\n",
    "        # get tracks title and artists\n",
    "        title = track.get(\"name\")\n",
    "        artists = track.get(\"artists\")\n",
    "        \n",
    "        # generate a keyword search string\n",
    "        artists_name_str = \", \".join([artist.get(\"name\") for artist in artists])\n",
    "        keyword_search_string = f\"{title} by {artists_name_str} official audio\"\n",
    "        \n",
    "        # try to search\n",
    "        try: \n",
    "            # search youtube for the video using the keyword string as the query\n",
    "            youtube_search_response = search_youtube(keyword_search_string)\n",
    "\n",
    "            # if nothing is found, move on to the next song\n",
    "            if int(youtube_search_response.get(\"pageInfo\").get(\"totalResults\")) == 0:\n",
    "                failed_songs.append(keyword_search_string)\n",
    "                continue\n",
    "            \n",
    "            # take the first item. the search function returns 1 item but a list is still returned\n",
    "            youtube_items = youtube_search_response.get(\"items\")\n",
    "            video_id = youtube_items[0].get(\"id\").get(\"videoId\")\n",
    "\n",
    "            # call function to add song to youtube playlist\n",
    "            add_song_to_playlist(video_id, searched_songs_count)\n",
    "            searched_songs_count = searched_songs_count + 1\n",
    "        # continue to next song on error\n",
    "        except Exception as e:\n",
    "            failed_songs.append(keyword_search_string)\n",
    "            continue\n",
    "\n",
    "    print(f\"Successfully uploaded {searched_songs_count} out of {len(spotify_playlist_songs)} songs\")\n",
    "\n",
    "    if(len(failed_songs) > 0):\n",
    "        print(\"Failed to upload the following songs\")\n",
    "        for song in failed_songs:\n",
    "            print(song)"
   ]
  },
  {
   "cell_type": "code",
   "execution_count": null,
   "metadata": {},
   "outputs": [],
   "source": [
    "# adds the songs to a youtube playlist\n",
    "add_songs_to_youtube_playlist()"
   ]
  }
 ],
 "metadata": {
  "kernelspec": {
   "display_name": "Python 3",
   "language": "python",
   "name": "python3"
  },
  "language_info": {
   "codemirror_mode": {
    "name": "ipython",
    "version": 3
   },
   "file_extension": ".py",
   "mimetype": "text/x-python",
   "name": "python",
   "nbconvert_exporter": "python",
   "pygments_lexer": "ipython3",
   "version": "3.12.9"
  }
 },
 "nbformat": 4,
 "nbformat_minor": 2
}
